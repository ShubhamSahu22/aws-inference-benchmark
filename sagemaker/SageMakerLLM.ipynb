{
 "cells": [
  {
   "cell_type": "markdown",
   "id": "5ef2f938",
   "metadata": {},
   "source": [
    "### Install requirements"
   ]
  },
  {
   "cell_type": "code",
   "execution_count": null,
   "id": "ae8f87b6",
   "metadata": {},
   "outputs": [],
   "source": [
    "!pip install sagemaker --quiet --upgrade --force-reinstall"
   ]
  },
  {
   "cell_type": "markdown",
   "id": "a801e432",
   "metadata": {},
   "source": [
    "### JumpStart example"
   ]
  },
  {
   "cell_type": "code",
   "execution_count": null,
   "id": "d63bb3f0",
   "metadata": {},
   "outputs": [],
   "source": [
    "from sagemaker.jumpstart.model import JumpStartModel"
   ]
  },
  {
   "cell_type": "code",
   "execution_count": null,
   "id": "02a58845",
   "metadata": {},
   "outputs": [],
   "source": [
    "model_jumpstart = JumpStartModel(model_id=\"huggingface-llm-falcon-7b-bf16\")"
   ]
  },
  {
   "cell_type": "code",
   "execution_count": null,
   "id": "a4f491f0",
   "metadata": {},
   "outputs": [],
   "source": [
    "predictor_jumpstart = model_jumpstart.deploy(instance_type=\"ml.g5.2xlarge\")"
   ]
  },
  {
   "cell_type": "code",
   "execution_count": null,
   "id": "e657af91",
   "metadata": {},
   "outputs": [],
   "source": [
    "prompt = \"What are the places to see in Rome?\"\n",
    "\n",
    "payload = {\n",
    "    \"inputs\": prompt,\n",
    "    \"parameters\": {\n",
    "        \"do_sample\": True,\n",
    "        \"top_p\": 0.9,\n",
    "        \"temperature\": 0.4,\n",
    "        \"max_new_tokens\": 256,\n",
    "        \"stop\": [\"<|endoftext|>\", \"</s>\"],\n",
    "    },\n",
    "}\n",
    "\n",
    "response = predictor_jumpstart.predict(payload)\n",
    "print(response[0][\"generated_text\"])"
   ]
  },
  {
   "cell_type": "markdown",
   "id": "88b25938",
   "metadata": {},
   "source": [
    "##### Deleting endpoint"
   ]
  },
  {
   "cell_type": "code",
   "execution_count": null,
   "id": "043f8806",
   "metadata": {},
   "outputs": [],
   "source": [
    "predictor_jumpstart.delete_model()\n",
    "predictor_jumpstart.delete_endpoint()"
   ]
  },
  {
   "cell_type": "markdown",
   "id": "af817a9e",
   "metadata": {},
   "source": [
    "### HuggingFace Estimator Example"
   ]
  },
  {
   "cell_type": "code",
   "execution_count": null,
   "id": "e9805542",
   "metadata": {},
   "outputs": [],
   "source": [
    "from sagemaker.huggingface import HuggingFaceModel\n",
    "from sagemaker.session import Session\n",
    "\n",
    "sagemaker_session = Session()\n",
    "aws_role = sagemaker_session.get_caller_identity_arn()"
   ]
  },
  {
   "cell_type": "code",
   "execution_count": null,
   "id": "f29235f3",
   "metadata": {},
   "outputs": [],
   "source": [
    "hub = {\n",
    "    'HF_MODEL_ID':'tiiuae/falcon-7b',\n",
    "    'HF_TASK':'text-generation'\n",
    "}\n",
    "model_huggingface = HuggingFaceModel( transformers_version='4.6', pytorch_version='1.7', py_version='py36', env=hub,role=aws_role)"
   ]
  },
  {
   "cell_type": "code",
   "execution_count": null,
   "id": "1f3ed5aa",
   "metadata": {},
   "outputs": [],
   "source": [
    "predictor_huggingface = model_huggingface.deploy(initial_instance_count=1, instance_type=\"ml.g5.4xlarge\")"
   ]
  },
  {
   "cell_type": "markdown",
   "id": "6a4787d6",
   "metadata": {},
   "source": [
    "##### Deleting endpoint"
   ]
  },
  {
   "cell_type": "code",
   "execution_count": null,
   "id": "12597c3d",
   "metadata": {},
   "outputs": [],
   "source": [
    "predictor_huggingface.delete_model()\n",
    "predictor_huggingface.delete_endpoint()"
   ]
  },
  {
   "cell_type": "markdown",
   "id": "392e1330",
   "metadata": {},
   "source": [
    "### SageMaker Custom Docker image example"
   ]
  },
  {
   "cell_type": "code",
   "execution_count": null,
   "id": "aeea6115",
   "metadata": {},
   "outputs": [],
   "source": [
    "from sagemaker import image_uris, model_uris, script_uris, hyperparameters\n",
    "from sagemaker.jumpstart.notebook_utils import list_jumpstart_models\n",
    "from sagemaker.predictor import Predictor\n",
    "from sagemaker.model import Model\n",
    "from sagemaker.session import Session\n",
    "\n",
    "sagemaker_session = Session()\n",
    "aws_role = sagemaker_session.get_caller_identity_arn()"
   ]
  },
  {
   "cell_type": "code",
   "execution_count": null,
   "id": "fb01750f",
   "metadata": {},
   "outputs": [],
   "source": [
    "deploy_image_uri = image_uris.retrieve(\n",
    "    region=None,\n",
    "    framework=None,  # automatically inferred from model_id\n",
    "    image_scope=\"inference\",\n",
    "    model_id=\"huggingface-llm-falcon-7b-bf16\",\n",
    "    model_version=\"*\",\n",
    "    instance_type=\"ml.g5.2xlarge\",\n",
    ")\n",
    "\n",
    "model_uri = model_uris.retrieve(\n",
    "    model_id=\"huggingface-llm-falcon-7b-bf16\", model_version=\"*\", model_scope=\"inference\"\n",
    ")"
   ]
  },
  {
   "cell_type": "code",
   "execution_count": null,
   "id": "cbc4eac0",
   "metadata": {},
   "outputs": [],
   "source": [
    "deploy_image_uri"
   ]
  },
  {
   "cell_type": "code",
   "execution_count": null,
   "id": "40bfb085",
   "metadata": {},
   "outputs": [],
   "source": [
    "model_uri"
   ]
  },
  {
   "cell_type": "code",
   "execution_count": null,
   "id": "0820e8d6",
   "metadata": {},
   "outputs": [],
   "source": [
    "model_custom = Model(\n",
    "    image_uri=deploy_image_uri,\n",
    "    model_data=model_uri,\n",
    "    role=aws_role,\n",
    "    predictor_cls=Predictor,\n",
    "    env={\n",
    "        \"SAGEMAKER_MODEL_SERVER_WORKERS\": \"1\",\n",
    "        \"TS_DEFAULT_WORKERS_PER_MODEL\": \"1\",\n",
    "        \"HF_MODEL_ID\":\"tiiuae/falcon-7b\",\n",
    "        \"HF_TASK\":\"text-generation\"\n",
    "    }\n",
    ")"
   ]
  },
  {
   "cell_type": "code",
   "execution_count": null,
   "id": "c1416eef",
   "metadata": {},
   "outputs": [],
   "source": [
    "predictor_custom = model_custom.deploy(\n",
    "    initial_instance_count=1,\n",
    "    instance_type=\"ml.g5.2xlarge\",\n",
    "    predictor_cls=Predictor,\n",
    ")"
   ]
  },
  {
   "cell_type": "markdown",
   "id": "1fa51949",
   "metadata": {},
   "source": [
    "##### Deleting endpoint"
   ]
  },
  {
   "cell_type": "code",
   "execution_count": null,
   "id": "b4c0e32c",
   "metadata": {},
   "outputs": [],
   "source": [
    "predictor_custom.delete_model()\n",
    "predictor_custom.delete_endpoint()"
   ]
  }
 ],
 "metadata": {
  "kernelspec": {
   "display_name": "conda_pytorch_p310",
   "language": "python",
   "name": "conda_pytorch_p310"
  },
  "language_info": {
   "codemirror_mode": {
    "name": "ipython",
    "version": 3
   },
   "file_extension": ".py",
   "mimetype": "text/x-python",
   "name": "python",
   "nbconvert_exporter": "python",
   "pygments_lexer": "ipython3",
   "version": "3.10.10"
  }
 },
 "nbformat": 4,
 "nbformat_minor": 5
}
